{
 "cells": [
  {
   "cell_type": "markdown",
   "metadata": {
    "collapsed": true
   },
   "source": [
    "# Importing all the right functions"
   ]
  },
  {
   "cell_type": "code",
   "execution_count": 1,
   "metadata": {
    "collapsed": true
   },
   "outputs": [],
   "source": [
    "import numpy as np\n",
    "import pandas as pd\n",
    "import matplotlib.pyplot as plt\n",
    "%matplotlib inline"
   ]
  },
  {
   "cell_type": "markdown",
   "metadata": {},
   "source": [
    "# Reading in the COLVAR file"
   ]
  },
  {
   "cell_type": "code",
   "execution_count": 2,
   "metadata": {
    "collapsed": false
   },
   "outputs": [
    {
     "name": "stderr",
     "output_type": "stream",
     "text": [
      "/usr/local/lib/python2.7/site-packages/ipykernel/__main__.py:1: ParserWarning: Falling back to the 'python' engine because the 'c' engine does not support skipfooter; you can avoid this warning by specifying engine='python'.\n",
      "  if __name__ == '__main__':\n"
     ]
    }
   ],
   "source": [
    "data=pd.read_csv('files/combine.csv',delim_whitespace=True,header=0,skipfooter=1,skipinitialspace=True,names=['Time','d','uwall.bias','uwall.force2','metad.bias','metad.work','ct'])\n",
    "data['ct'] = data['ct'].str.replace('\"', '')\n",
    "data.index = range(len(data))\n",
    "data.head(10)"
   ]
  },
  {
   "cell_type": "markdown",
   "metadata": {},
   "source": [
    "# Assigning weights to each line\n",
    "names=['Time','d','uwall.bias','uwall.force2','metad.bias','metad.work','ct']"
   ]
  },
  {
   "cell_type": "code",
   "execution_count": 3,
   "metadata": {
    "collapsed": false
   },
   "outputs": [
    {
     "data": {
      "text/html": [
       "<div>\n",
       "<table border=\"1\" class=\"dataframe\">\n",
       "  <thead>\n",
       "    <tr style=\"text-align: right;\">\n",
       "      <th></th>\n",
       "      <th>Time</th>\n",
       "      <th>d</th>\n",
       "      <th>uwall.bias</th>\n",
       "      <th>uwall.force2</th>\n",
       "      <th>metad.bias</th>\n",
       "      <th>metad.work</th>\n",
       "      <th>ct</th>\n",
       "      <th>e(v-ct)</th>\n",
       "    </tr>\n",
       "  </thead>\n",
       "  <tbody>\n",
       "    <tr>\n",
       "      <th>0</th>\n",
       "      <td>1.0</td>\n",
       "      <td>2.470411</td>\n",
       "      <td>0.0</td>\n",
       "      <td>0.0</td>\n",
       "      <td>0.000000</td>\n",
       "      <td>0.000000</td>\n",
       "      <td>0.0</td>\n",
       "      <td>2.581313e+20</td>\n",
       "    </tr>\n",
       "    <tr>\n",
       "      <th>1</th>\n",
       "      <td>2.0</td>\n",
       "      <td>2.501739</td>\n",
       "      <td>0.0</td>\n",
       "      <td>0.0</td>\n",
       "      <td>1.643539</td>\n",
       "      <td>1.999999</td>\n",
       "      <td>0.0</td>\n",
       "      <td>1.335428e+21</td>\n",
       "    </tr>\n",
       "    <tr>\n",
       "      <th>2</th>\n",
       "      <td>3.0</td>\n",
       "      <td>2.702078</td>\n",
       "      <td>0.0</td>\n",
       "      <td>0.0</td>\n",
       "      <td>0.000000</td>\n",
       "      <td>3.858799</td>\n",
       "      <td>0.0</td>\n",
       "      <td>2.581313e+20</td>\n",
       "    </tr>\n",
       "  </tbody>\n",
       "</table>\n",
       "</div>"
      ],
      "text/plain": [
       "   Time         d  uwall.bias  uwall.force2  metad.bias  metad.work   ct  \\\n",
       "0   1.0  2.470411         0.0           0.0    0.000000    0.000000  0.0   \n",
       "1   2.0  2.501739         0.0           0.0    1.643539    1.999999  0.0   \n",
       "2   3.0  2.702078         0.0           0.0    0.000000    3.858799  0.0   \n",
       "\n",
       "        e(v-ct)  \n",
       "0  2.581313e+20  \n",
       "1  1.335428e+21  \n",
       "2  2.581313e+20  "
      ]
     },
     "execution_count": 3,
     "metadata": {},
     "output_type": "execute_result"
    }
   ],
   "source": [
    "expt=[]\n",
    "wt=[]\n",
    "for i in range(len(data)):\n",
    "    \n",
    "    x=data['metad.bias'].iloc[i]\n",
    "    y=float(data['ct'].iloc[i])\n",
    "    expt.append(np.exp(x-y+47))\n",
    "\n",
    "data['e(v-ct)']=expt\n",
    "data.head(3)"
   ]
  },
  {
   "cell_type": "code",
   "execution_count": 4,
   "metadata": {
    "collapsed": false
   },
   "outputs": [
    {
     "data": {
      "text/plain": [
       "6.3021251024907099e+21"
      ]
     },
     "execution_count": 4,
     "metadata": {},
     "output_type": "execute_result"
    }
   ],
   "source": [
    "np.min(data['e(v-ct)']), np.max(data['e(v-ct)'])\n",
    "np.sum(data['e(v-ct)'])"
   ]
  },
  {
   "cell_type": "markdown",
   "metadata": {},
   "source": [
    "# Defining the histogram function"
   ]
  },
  {
   "cell_type": "code",
   "execution_count": 8,
   "metadata": {
    "collapsed": false
   },
   "outputs": [],
   "source": [
    "def making_histogram(distance, weights):\n",
    "    ending=4.5;bins=150; binsize=(ending)/bins\n",
    "    hist=np.zeros((bins,2),dtype=np.float64)\n",
    "\n",
    "    for i in range(bins):\n",
    "        hist[i][0] = binsize/2.0 + i*binsize\n",
    "\n",
    "    for i in range(len(distance)):\n",
    "        hist[int(distance.iloc[i]/binsize)][1] += weights.iloc[i]\n",
    "    hist[:,1] = -2.5*np.log(hist[:,1]/np.sum(weights))\n",
    "    return hist\n",
    "\n"
   ]
  },
  {
   "cell_type": "markdown",
   "metadata": {},
   "source": [
    "# Trying to reproduce the original curve"
   ]
  },
  {
   "cell_type": "code",
   "execution_count": 9,
   "metadata": {
    "collapsed": false
   },
   "outputs": [
    {
     "name": "stderr",
     "output_type": "stream",
     "text": [
      "/usr/local/lib/python2.7/site-packages/ipykernel/__main__.py:10: RuntimeWarning: divide by zero encountered in log\n"
     ]
    },
    {
     "data": {
      "image/png": "[encoded data removed]",
      "text/plain": [
       "<matplotlib.figure.Figure at 0x110fd2fd0>"
      ]
     },
     "metadata": {},
     "output_type": "display_data"
    }
   ],
   "source": [
    "yoyo= making_histogram(data['d'], data['e(v-ct)'])\n",
    "plt.plot(yoyo[:,0],yoyo[:,1], lw=2)\n",
    "plt.show()"
   ]
  },
  {
   "cell_type": "markdown",
   "metadata": {},
   "source": [
    "# Reading in new distances"
   ]
  },
  {
   "cell_type": "code",
   "execution_count": 11,
   "metadata": {
    "collapsed": false
   },
   "outputs": [
    {
     "name": "stderr",
     "output_type": "stream",
     "text": [
      "/usr/local/lib/python2.7/site-packages/ipykernel/__main__.py:1: ParserWarning: Falling back to the 'python' engine because the 'c' engine does not support skipfooter; you can avoid this warning by specifying engine='python'.\n",
      "  if __name__ == '__main__':\n"
     ]
    },
    {
     "data": {
      "text/html": [
       "<div>\n",
       "<table border=\"1\" class=\"dataframe\">\n",
       "  <thead>\n",
       "    <tr style=\"text-align: right;\">\n",
       "      <th></th>\n",
       "      <th>time</th>\n",
       "      <th>d_NdeSNa</th>\n",
       "      <th>d_NdeNde</th>\n",
       "      <th>d_NdeC5</th>\n",
       "      <th>d_NdeNd</th>\n",
       "      <th>d_SNaSNa</th>\n",
       "      <th>d_SNaC5</th>\n",
       "      <th>d_SNaNd</th>\n",
       "      <th>d_C5Nd</th>\n",
       "      <th>d_C5C5</th>\n",
       "      <th>d_NdNd</th>\n",
       "    </tr>\n",
       "  </thead>\n",
       "  <tbody>\n",
       "    <tr>\n",
       "      <th>0</th>\n",
       "      <td>1.0</td>\n",
       "      <td>2.321207</td>\n",
       "      <td>2.455949</td>\n",
       "      <td>2.505461</td>\n",
       "      <td>2.034655</td>\n",
       "      <td>2.471135</td>\n",
       "      <td>2.633836</td>\n",
       "      <td>2.186904</td>\n",
       "      <td>2.155133</td>\n",
       "      <td>2.559485</td>\n",
       "      <td>2.384335</td>\n",
       "    </tr>\n",
       "    <tr>\n",
       "      <th>1</th>\n",
       "      <td>2.0</td>\n",
       "      <td>2.319503</td>\n",
       "      <td>2.491670</td>\n",
       "      <td>2.471433</td>\n",
       "      <td>2.028357</td>\n",
       "      <td>2.508277</td>\n",
       "      <td>2.639668</td>\n",
       "      <td>2.222608</td>\n",
       "      <td>2.220903</td>\n",
       "      <td>2.588987</td>\n",
       "      <td>2.465904</td>\n",
       "    </tr>\n",
       "    <tr>\n",
       "      <th>2</th>\n",
       "      <td>3.0</td>\n",
       "      <td>2.483395</td>\n",
       "      <td>2.635394</td>\n",
       "      <td>2.633201</td>\n",
       "      <td>2.172045</td>\n",
       "      <td>2.704032</td>\n",
       "      <td>2.843174</td>\n",
       "      <td>2.395958</td>\n",
       "      <td>2.440351</td>\n",
       "      <td>2.863056</td>\n",
       "      <td>2.598290</td>\n",
       "    </tr>\n",
       "  </tbody>\n",
       "</table>\n",
       "</div>"
      ],
      "text/plain": [
       "   time  d_NdeSNa  d_NdeNde   d_NdeC5   d_NdeNd  d_SNaSNa   d_SNaC5   d_SNaNd  \\\n",
       "0   1.0  2.321207  2.455949  2.505461  2.034655  2.471135  2.633836  2.186904   \n",
       "1   2.0  2.319503  2.491670  2.471433  2.028357  2.508277  2.639668  2.222608   \n",
       "2   3.0  2.483395  2.635394  2.633201  2.172045  2.704032  2.843174  2.395958   \n",
       "\n",
       "     d_C5Nd    d_C5C5    d_NdNd  \n",
       "0  2.155133  2.559485  2.384335  \n",
       "1  2.220903  2.588987  2.465904  \n",
       "2  2.440351  2.863056  2.598290  "
      ]
     },
     "execution_count": 11,
     "metadata": {},
     "output_type": "execute_result"
    }
   ],
   "source": [
    "distances=pd.read_csv('files/DISTANCE_200.csv',delim_whitespace=True,header=0,skipfooter=1,skipinitialspace=True)\n",
    "distances.head(3)"
   ]
  },
  {
   "cell_type": "markdown",
   "metadata": {},
   "source": [
    "# Plotting one of the variables"
   ]
  },
  {
   "cell_type": "code",
   "execution_count": 17,
   "metadata": {
    "collapsed": false
   },
   "outputs": [
    {
     "name": "stderr",
     "output_type": "stream",
     "text": [
      "/usr/local/lib/python2.7/site-packages/ipykernel/__main__.py:10: RuntimeWarning: divide by zero encountered in log\n"
     ]
    },
    {
     "data": {
      "image/png": "[encoded data removed]",
      "text/plain": [
       "<matplotlib.figure.Figure at 0x10cdae150>"
      ]
     },
     "metadata": {},
     "output_type": "display_data"
    }
   ],
   "source": [
    "yoyo= making_histogram(distances['d_NdeSNa'], data['e(v-ct)'])\n",
    "plt.plot(yoyo[:,0],yoyo[:,1], lw=2)\n",
    "plt.show()"
   ]
  }
 ],
 "metadata": {
  "kernelspec": {
   "display_name": "Python 2",
   "language": "python",
   "name": "python2"
  },
  "language_info": {
   "codemirror_mode": {
    "name": "ipython",
    "version": 2
   },
   "file_extension": ".py",
   "mimetype": "text/x-python",
   "name": "python",
   "nbconvert_exporter": "python",
   "pygments_lexer": "ipython2",
   "version": "2.7.13"
  }
 },
 "nbformat": 4,
 "nbformat_minor": 2
}
